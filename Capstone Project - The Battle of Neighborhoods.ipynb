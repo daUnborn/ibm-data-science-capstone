{
 "cells": [
  {
   "cell_type": "markdown",
   "metadata": {},
   "source": [
    "# Introduction/Business Problem"
   ]
  },
  {
   "cell_type": "markdown",
   "metadata": {},
   "source": [
    "#### The Problem"
   ]
  },
  {
   "cell_type": "markdown",
   "metadata": {},
   "source": [
    "There is a spike in crime in the Chicago area. This has been an problem for the Chicago PD who want to tackle this problem my advising the general public on places where a particular kind of crime is prevalent. With this data, residents in Chicago are advised on how to protect themselves in their homes and when they are away."
   ]
  },
  {
   "cell_type": "markdown",
   "metadata": {},
   "source": [
    "#### The Solution"
   ]
  },
  {
   "cell_type": "markdown",
   "metadata": {},
   "source": [
    "Get the data of crimes committed in the chicago area. Explore the data to find areas with high crime rate, the type of crime and come up with advice on to the public on how to protect themselves.\n",
    "\n",
    "Also, with the data, the police department would know when, how and where to deploy personnel to combat crime in the area, thereby reducing the rate of crime and keeping the public safe"
   ]
  },
  {
   "cell_type": "markdown",
   "metadata": {},
   "source": [
    "# The Data"
   ]
  },
  {
   "cell_type": "markdown",
   "metadata": {},
   "source": [
    "This dataset reflects reported incidents of crime (with the exception of murders where data exists for each victim) that occurred in the City of Chicago from 2001 to present, minus the most recent seven days. While the size of the file is huge, a fraction of the data has been retrieved.\n",
    "\n",
    "The dataset has the following (not exhaustive): Date, Crime Type, Location Address, Description of the Crime and description of the location.\n",
    "\n",
    "This data can be explored and analysed to assist the Chicago PD in making decisions.\n",
    "\n",
    "With the Foursquare location data, the solution to the underlying problem can be solved."
   ]
  },
  {
   "cell_type": "code",
   "execution_count": null,
   "metadata": {},
   "outputs": [],
   "source": []
  }
 ],
 "metadata": {
  "kernelspec": {
   "display_name": "Python 3",
   "language": "python",
   "name": "python3"
  },
  "language_info": {
   "codemirror_mode": {
    "name": "ipython",
    "version": 3
   },
   "file_extension": ".py",
   "mimetype": "text/x-python",
   "name": "python",
   "nbconvert_exporter": "python",
   "pygments_lexer": "ipython3",
   "version": "3.7.1"
  }
 },
 "nbformat": 4,
 "nbformat_minor": 2
}
